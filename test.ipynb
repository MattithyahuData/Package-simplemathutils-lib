{
 "cells": [
  {
   "cell_type": "code",
   "execution_count": 6,
   "metadata": {},
   "outputs": [
    {
     "data": {
      "text/plain": [
       "2.0"
      ]
     },
     "execution_count": 6,
     "metadata": {},
     "output_type": "execute_result"
    }
   ],
   "source": [
    "class Personinfo:\n",
    "    '''Basic Class'''\n",
    "\n",
    "    # Defining __init__ constructor method \n",
    "    def __init__(self, num1, num2):\n",
    "\n",
    "        # Using self to set name and age \n",
    "        self.num1 = num1\n",
    "        self.num2 = num2\n",
    "\n",
    "\n",
    "\n",
    "\n",
    "divide(1,0.5)"
   ]
  },
  {
   "cell_type": "code",
   "execution_count": 7,
   "metadata": {},
   "outputs": [
    {
     "name": "stdout",
     "output_type": "stream",
     "text": [
      "<class 'dict'>\n",
      "<class 'tuple'>\n",
      "<class 'list'>\n",
      "<class 'int'>\n"
     ]
    }
   ],
   "source": [
    "print(type({}))\n",
    "print(type(()))\n",
    "print(type([]))\n",
    "print(type(1))"
   ]
  },
  {
   "cell_type": "code",
   "execution_count": 9,
   "metadata": {},
   "outputs": [
    {
     "data": {
      "text/plain": [
       "<__main__.Car at 0x1cf06e626d0>"
      ]
     },
     "execution_count": 9,
     "metadata": {},
     "output_type": "execute_result"
    }
   ],
   "source": [
    "# Create a empty class\n",
    "class Car:\n",
    "    pass\n",
    "\n",
    "# Instance of example\n",
    "car1 = Car()\n",
    "car2 = Car()\n",
    "\n",
    "car1"
   ]
  },
  {
   "cell_type": "code",
   "execution_count": 13,
   "metadata": {},
   "outputs": [
    {
     "name": "stdout",
     "output_type": "stream",
     "text": [
      "1988685604560\n",
      "1988685606384\n"
     ]
    }
   ],
   "source": [
    "# Check id's\n",
    "print(id(car1))\n",
    "print(id(car2))"
   ]
  },
  {
   "cell_type": "code",
   "execution_count": 35,
   "metadata": {},
   "outputs": [],
   "source": [
    "class SimpleMath:\n",
    "\n",
    "    '''\n",
    "    Instantiating SimpleMath class\n",
    "    '''\n",
    "\n",
    "    # Defining __init__ constructor method \n",
    "    def __init__(self):\n",
    "        pass\n",
    "\n",
    "    def add(self,num1: int or float,num2: int or float):\n",
    "        ''' \n",
    "        Returning the addition of 2 inputs.\n",
    "\n",
    "        :param num1: The first number. | Datatype: int or float\n",
    "        :param num2: The second number. | Datatype: int or float\n",
    "\n",
    "        Returns: \n",
    "        1st paramter + 2nd parameter  \n",
    "\n",
    "        '''\n",
    "\n",
    "        # Returning sum of 2 values \n",
    "        return num1+num2\n",
    "\n",
    "\n",
    "    def subtract(self,num1: int or float,num2: int or float):\n",
    "        ''' \n",
    "        Returning the difference of 2 inputs. \n",
    "\n",
    "        :param num1: The first number. | Datatype: int or float\n",
    "        :param num2: The second number. | Datatype: int or float\n",
    "\n",
    "        Returns: \n",
    "        1st paramter - 2nd parameter  \n",
    "\n",
    "        '''\n",
    "\n",
    "        # Returning 1st paramter - 2nd parameter  \n",
    "        return num1-num2\n",
    "\n",
    "\n",
    "    def multiply(self,num1: int or float,num2: int or float):\n",
    "        ''' \n",
    "        Returning the product of 2 inputs. \n",
    "\n",
    "        :param num1: The first number. | Datatype: int or float\n",
    "        :param num2: The second number. | Datatype: int or float\n",
    "\n",
    "        Returns: \n",
    "        1st paramter * 2nd parameter  \n",
    "\n",
    "        '''\n",
    "\n",
    "        # Returning 1st paramter * 2nd parameter  \n",
    "        return num1*num2\n",
    "\n",
    "\n",
    "    def divide(self,num1: int or float,num2: int or float):\n",
    "        ''' \n",
    "        Returning the product of dividing 2 inputs. \n",
    "\n",
    "        :param num1: The first number. | Datatype: int or float\n",
    "        :param num2: The second number. | Datatype: int or float\n",
    "\n",
    "        Returns: \n",
    "        1st paramter / 2nd parameter  \n",
    "\n",
    "        '''\n",
    "\n",
    "        # Returning 1st paramter - 2nd parameter  \n",
    "        return num1/num2"
   ]
  },
  {
   "cell_type": "code",
   "execution_count": 36,
   "metadata": {},
   "outputs": [
    {
     "data": {
      "text/plain": [
       "1.0"
      ]
     },
     "execution_count": 36,
     "metadata": {},
     "output_type": "execute_result"
    }
   ],
   "source": [
    "# Instantiate a Multiplication object\n",
    "cls = SimpleMath()\n",
    "\n",
    "cls.divide(4,4)"
   ]
  },
  {
   "cell_type": "code",
   "execution_count": 1,
   "metadata": {},
   "outputs": [],
   "source": [
    "from simplemathutils_lib import simplemath "
   ]
  },
  {
   "cell_type": "code",
   "execution_count": 2,
   "metadata": {},
   "outputs": [
    {
     "data": {
      "text/plain": [
       "3"
      ]
     },
     "execution_count": 2,
     "metadata": {},
     "output_type": "execute_result"
    }
   ],
   "source": [
    "simplemath.add(1,2)"
   ]
  },
  {
   "cell_type": "code",
   "execution_count": 5,
   "metadata": {},
   "outputs": [
    {
     "data": {
      "text/plain": [
       "'# simplemathutils-lib\\n\\n`simplemathutils-lib` is a creative package for basic mathematical operations with Python.\\nIt works by simple math principles with more to come to make math easier in python3. \\n\\nAll simplemathutils-lib wheels distributed on pypi are MIT licensed.\\n\\n## Requirements\\n\\nsimplemathutils-lib requires python 3.6 or greater.\\n\\n## Installation\\n\\nInstall with pip:\\n\\n```\\npip install simplemathutils-lib\\n```\\n\\n## Examples\\n\\n```python\\nimport simplemathutils-lib as simplemath\\n\\nsimplemath.add(1,1)\\n\\n```\\n\\n## Contribute\\n\\nFeel free to open pull requests to expand this documentation, add features or fix problems.\\nTo file any issues, please contact: <a href=\"mailto:contactmattithyahu@gmail.com\"><strong>contactmattithyahu@gmail.com</strong></a>\\n'"
      ]
     },
     "execution_count": 5,
     "metadata": {},
     "output_type": "execute_result"
    }
   ],
   "source": [
    "with open(\"README.md\", \"r\", encoding=\"utf-8\") as fh:\n",
    "    LONG_DESCRIPTION = fh.read()\n",
    "\n",
    "LONG_DESCRIPTION"
   ]
  },
  {
   "cell_type": "code",
   "execution_count": 24,
   "metadata": {},
   "outputs": [
    {
     "data": {
      "text/plain": [
       "3"
      ]
     },
     "execution_count": 24,
     "metadata": {},
     "output_type": "execute_result"
    }
   ],
   "source": [
    "SimpleMath().add(1,2)"
   ]
  }
 ],
 "metadata": {
  "interpreter": {
   "hash": "faa5008727a0c1980e05eee84707bf37bbe46b3bd24b55623efb54f4460dd5fc"
  },
  "kernelspec": {
   "display_name": "Python 3.8.13 ('SBank')",
   "language": "python",
   "name": "python3"
  },
  "language_info": {
   "codemirror_mode": {
    "name": "ipython",
    "version": 3
   },
   "file_extension": ".py",
   "mimetype": "text/x-python",
   "name": "python",
   "nbconvert_exporter": "python",
   "pygments_lexer": "ipython3",
   "version": "3.8.13"
  },
  "orig_nbformat": 4
 },
 "nbformat": 4,
 "nbformat_minor": 2
}
